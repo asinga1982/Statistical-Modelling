{
 "cells": [
  {
   "cell_type": "markdown",
   "metadata": {},
   "source": [
    "# Expectation-maximization algorithm"
   ]
  },
  {
   "cell_type": "markdown",
   "metadata": {},
   "source": [
    "We will derive and implement formulas for Gaussian Mixture Model — one of the most commonly used methods for performing soft clustering of the data. "
   ]
  },
  {
   "cell_type": "markdown",
   "metadata": {},
   "source": [
    "### Installation\n",
    "\n",
    "We will need ```numpy```, ```scikit-learn```, ```matplotlib``` libraries for this "
   ]
  },
  {
   "cell_type": "code",
   "execution_count": 259,
   "metadata": {},
   "outputs": [],
   "source": [
    "import numpy as np\n",
    "from numpy.linalg import slogdet, det, solve\n",
    "import matplotlib.pyplot as plt\n",
    "import time\n",
    "from sklearn.datasets import load_digits\n",
    "from grader import Grader\n",
    "%matplotlib inline"
   ]
  },
  {
   "cell_type": "code",
   "execution_count": 260,
   "metadata": {},
   "outputs": [],
   "source": [
    "grader = Grader()"
   ]
  },
  {
   "cell_type": "markdown",
   "metadata": {},
   "source": [
    "## Implementing EM for GMM"
   ]
  },
  {
   "cell_type": "markdown",
   "metadata": {},
   "source": [
    "For debugging we will use samples from gaussian mixture model with unknown mean, variance and priors. We also added inital values of parameters for grading purposes."
   ]
  },
  {
   "cell_type": "code",
   "execution_count": 261,
   "metadata": {},
   "outputs": [
    {
     "data": {
      "image/png": "[encoded data removed]",
      "text/plain": [
       "<Figure size 432x288 with 1 Axes>"
      ]
     },
     "metadata": {
      "needs_background": "light"
     },
     "output_type": "display_data"
    }
   ],
   "source": [
    "samples = np.load('samples.npz')\n",
    "X = samples['data']\n",
    "pi0 = samples['pi0']\n",
    "mu0 = samples['mu0']\n",
    "sigma0 = samples['sigma0']\n",
    "plt.scatter(X[:, 0], X[:, 1], c='grey', s=30)\n",
    "plt.axis('equal')\n",
    "plt.show()"
   ]
  },
  {
   "cell_type": "code",
   "execution_count": 277,
   "metadata": {},
   "outputs": [
    {
     "name": "stdout",
     "output_type": "stream",
     "text": [
      "(3,)\n",
      "(280, 2)\n",
      "[[[ 1.00490413  1.89980228]\n",
      "  [ 1.89980228  4.18354574]]\n",
      "\n",
      " [[ 1.96867815  0.78415336]\n",
      "  [ 0.78415336  1.83319942]]\n",
      "\n",
      " [[ 0.19316335 -0.11648642]\n",
      "  [-0.11648642  1.98395967]]]\n",
      "[[-0.71336192  0.90635089]\n",
      " [ 0.76623673  0.82605407]\n",
      " [-1.32368279 -1.75244452]]\n"
     ]
    },
    {
     "data": {
      "text/plain": [
       "numpy.ndarray"
      ]
     },
     "execution_count": 277,
     "metadata": {},
     "output_type": "execute_result"
    }
   ],
   "source": [
    "print(pi0.shape)\n",
    "print(X.shape)\n",
    "print(sigma0)\n",
    "print(mu0)\n",
    "type(X)"
   ]
  },
  {
   "cell_type": "markdown",
   "metadata": {},
   "source": [
    "### Reminder"
   ]
  },
  {
   "cell_type": "markdown",
   "metadata": {},
   "source": [
    "Remember, that EM algorithm is a coordinate descent optimization of variational lower bound $\\mathcal{L}(\\theta, q) = \\int q(T) \\log\\frac{P(X, T|\\theta)}{q(T)}dT\\to \\max$.\n",
    "\n",
    "<b>E-step</b>:<br>\n",
    "$\\mathcal{L}(\\theta, q) \\to \\max\\limits_{q} \\Leftrightarrow \\mathcal{KL} [q(T) \\,\\|\\, p(T|X, \\theta)] \\to \\min \\limits_{q\\in Q} \\Rightarrow q(T) = p(T|X, \\theta)$<br>\n",
    "<b>M-step</b>:<br> \n",
    "$\\mathcal{L}(\\theta, q) \\to \\max\\limits_{\\theta} \\Leftrightarrow \\mathbb{E}_{q(T)}\\log p(X,T | \\theta) \\to \\max\\limits_{\\theta}$\n",
    "\n",
    "For GMM, $\\theta$ is a set of parameters that consists of mean vectors $\\mu_c$, covariance matrices $\\Sigma_c$ and priors $\\pi_c$ for each component.\n",
    "\n",
    "Latent variables $T$ are indices of components to which each data point is assigned. $T_i$ (cluster index for object $i$) is a binary vector with only one active bit in position corresponding to the true component. For example, if we have $C=3$ components and object $i$ lies in first component, $T_i = [1, 0, 0]$.\n",
    "\n",
    "The joint distribution can be written as follows: $p(T, X \\mid \\theta) =  \\prod\\limits_{i=1}^N p(T_i, X_i \\mid \\theta) = \\prod\\limits_{i=1}^N \\prod\\limits_{c=1}^C [\\pi_c \\mathcal{N}(X_i \\mid \\mu_c, \\Sigma_c)]^{T_{ic}}$."
   ]
  },
  {
   "cell_type": "markdown",
   "metadata": {},
   "source": [
    "### E-step\n",
    "In this step we need to estimate the posterior distribution over the latent variables with fixed values of parameters: $q(T) = p(T|X, \\theta)$. We will assume that $T_i$ (cluster index for object $i$) is a binary vector with only one '1' in position corresponding to the true component. To do so we need to compute $\\gamma_{ic} = P(T_{ic} = 1 \\mid X, \\theta)$. Note that $\\sum\\limits_{c=1}^C\\gamma_{ic}=1$.\n"
   ]
  },
  {
   "cell_type": "markdown",
   "metadata": {},
   "source": [
    "<b>Important trick 1:</b> It is important to avoid numerical errors. At some point you will have to compute the formula of the following form: $\\frac{e^{x_i}}{\\sum_j e^{x_j}}$. When you compute exponents of large numbers, you get huge numerical errors (some numbers will simply become infinity). You can avoid this by dividing numerator and denominator by $e^{\\max(x)}$: $\\frac{e^{x_i-\\max(x)}}{\\sum_j e^{x_j - \\max(x)}}$. After this transformation maximum value in the denominator will be equal to one. All other terms will contribute smaller values. This trick is called log-sum-exp. So, to compute desired formula you first subtract maximum value from each component in vector $X$ and then compute everything else as before.\n",
    "\n",
    "<b>Important trick 2:</b> You will probably need to compute formula of the form $A^{-1}x$ at some point. You would normally inverse $A$ and then multiply it by $x$. A bit faster and more numerically accurate way to do this is to solve the equation $Ay = x$. Its solution is $y=A^{-1}x$, but the equation $Ay = x$ can be solved by Gaussian elimination procedure. You can use ```np.linalg.solve``` for this.\n",
    "\n",
    "<b>Other usefull functions: </b> <a href=\"https://docs.scipy.org/doc/numpy/reference/generated/numpy.linalg.slogdet.html\">```slogdet```</a> and <a href=\"https://docs.scipy.org/doc/numpy/reference/generated/numpy.linalg.det.html#numpy.linalg.det\">```det```</a>"
   ]
  },
  {
   "cell_type": "markdown",
   "metadata": {},
   "source": [
    "<b>Task 1:</b> Implement E-step for GMM using template below."
   ]
  },
  {
   "cell_type": "code",
   "execution_count": 263,
   "metadata": {},
   "outputs": [],
   "source": [
    "def calc_prob(X,mu,sigma, pi):\n",
    "    \"\"\"\n",
    "    Calculates Gaussian probability of observing the given data under specified Distribution parameters, cluster - means and sd. \n",
    "    Input is:\n",
    "    X: d, data points\n",
    "    mu: d, means\n",
    "    sigma: (d x d), covariance matrix\n",
    "    pi: (1), weight \n",
    "    \n",
    "    Returns:\n",
    "    prob: (1), Gaussian probability of observing the given data under specified Distribution parameters\n",
    "    \"\"\"\n",
    "    k = sigma.shape[0]\n",
    "    #print(k)\n",
    "    nr = np.exp(-0.5*(np.matmul((X-mu).T,np.linalg.solve(sigma,(X-mu)))))\n",
    "    dr = np.sqrt(np.power(2*pi,k)*np.linalg.det(sigma))\n",
    "    #print(\"Numerator: \"+str(nr))\n",
    "    #print(\"Denominator: \"+str(dr))\n",
    "    return nr/dr"
   ]
  },
  {
   "cell_type": "code",
   "execution_count": 264,
   "metadata": {},
   "outputs": [
    {
     "data": {
      "text/plain": [
       "0.1989436788648692"
      ]
     },
     "execution_count": 264,
     "metadata": {},
     "output_type": "execute_result"
    }
   ],
   "source": [
    "calc_prob(X=np.array([0.5,0.5]),mu=np.array([0.5, 0.5]),sigma=np.array([[1,3/5], [3/5,1]]), pi=np.array(np.math.pi))"
   ]
  },
  {
   "cell_type": "code",
   "execution_count": 282,
   "metadata": {},
   "outputs": [],
   "source": [
    "def E_step(X, pi, mu, sigma):\n",
    "    \"\"\"\n",
    "    Performs E-step on GMM model\n",
    "    Each input is numpy array:\n",
    "    X: (N x d), data points\n",
    "    pi: (C), mixture component weights \n",
    "    mu: (C x d), mixture component means\n",
    "    sigma: (C x d x d), mixture component covariance matrices\n",
    "    \n",
    "    Returns:\n",
    "    gamma: (N x C), probabilities of clusters for objects\n",
    "    \"\"\"    \n",
    "    N = X.shape[0] # number of objects\n",
    "    C = pi.shape[0] # number of clusters\n",
    "    d = mu.shape[1] # dimension of each object\n",
    "    gamma = np.zeros((N, C)) # distribution q(T)\n",
    "\n",
    "    ### YOUR CODE HERE\n",
    "    max_x1 = np.max(X[:,0])\n",
    "    max_x2 = np.max(X[:,1])\n",
    "    #X[:,0] = X[:,0] - max_x1\n",
    "    #X[:,1] = X[:,1] - max_x2\n",
    "    #print(\"N:\"+str(N)+\" C:\"+str(C)+\" d:\"+str(d))\n",
    "    \n",
    "    for i in range(N):\n",
    "        for j in range(C):\n",
    "            gamma[i,j] = calc_prob(X[i,:],mu[j,:], sigma[j,:,:], pi[j]) * np.power(pi[j],d) \n",
    "    \n",
    "    #Normalize gamma in each row\n",
    "    #gamma /= np.sum(gamma, axis=1)[:,np.newaxis]\n",
    "    for i in range(N):\n",
    "        gamma[i,:] = gamma[i,:] /np.sum(gamma[i,:])\n",
    "    \n",
    "    return gamma"
   ]
  },
  {
   "cell_type": "code",
   "execution_count": 266,
   "metadata": {},
   "outputs": [
    {
     "name": "stdout",
     "output_type": "stream",
     "text": [
      "N:280 C:3 d:2\n",
      "[125.16650217 154.21348486   0.62001298]\n",
      "Current answer for task Task 1 (E-step) is: 0.5337178741081264\n"
     ]
    }
   ],
   "source": [
    "gamma = E_step(X, pi0, mu0, sigma0)\n",
    "print(np.sum(gamma, axis=0))\n",
    "grader.submit_e_step(gamma)"
   ]
  },
  {
   "cell_type": "code",
   "execution_count": 267,
   "metadata": {},
   "outputs": [
    {
     "data": {
      "text/plain": [
       "array([[9.77802155e-01, 2.21978447e-02, 1.07229089e-14],\n",
       "       [9.78228436e-01, 2.17715636e-02, 6.65282252e-16],\n",
       "       [9.99470994e-01, 5.29005851e-04, 7.87626322e-24],\n",
       "       [9.99482344e-01, 5.17656126e-04, 3.24388347e-26],\n",
       "       [6.83857110e-05, 9.99931614e-01, 1.15852408e-20],\n",
       "       [1.50729715e-36, 1.00000000e+00, 2.89692453e-57],\n",
       "       [1.83115480e-01, 8.16884375e-01, 1.44924709e-07],\n",
       "       [9.60027562e-01, 3.99724376e-02, 7.78636239e-13],\n",
       "       [4.35705967e-01, 5.33717874e-01, 3.05761590e-02],\n",
       "       [4.22427127e-01, 5.74733674e-01, 2.83919872e-03],\n",
       "       [9.88286857e-01, 1.17131434e-02, 1.83043464e-16],\n",
       "       [5.42939168e-01, 4.56729246e-01, 3.31586125e-04],\n",
       "       [1.08502493e-01, 8.91497507e-01, 8.73826666e-32],\n",
       "       [6.27715071e-04, 9.99372285e-01, 3.50074230e-24],\n",
       "       [8.65821552e-01, 1.34178197e-01, 2.50489977e-07],\n",
       "       [1.34635440e-10, 1.00000000e+00, 1.69888046e-10],\n",
       "       [9.98574647e-01, 1.42535271e-03, 3.60305312e-21],\n",
       "       [5.82682916e-01, 4.17155213e-01, 1.61870957e-04],\n",
       "       [7.17431881e-03, 9.92825681e-01, 6.50764568e-33],\n",
       "       [8.84438735e-01, 1.15561258e-01, 7.44147679e-09],\n",
       "       [3.31022532e-32, 1.00000000e+00, 7.36124776e-60],\n",
       "       [9.02677772e-01, 9.73222282e-02, 5.41088147e-13],\n",
       "       [5.00471682e-01, 4.99528299e-01, 1.83893219e-08],\n",
       "       [4.27581828e-01, 5.72418172e-01, 6.37019789e-16]])"
      ]
     },
     "execution_count": 267,
     "metadata": {},
     "output_type": "execute_result"
    }
   ],
   "source": [
    "gamma[1:25,:]"
   ]
  },
  {
   "cell_type": "markdown",
   "metadata": {},
   "source": [
    "### M-step\n",
    "\n",
    "In M-step we need to maximize $\\mathbb{E}_{q(T)}\\log p(X,T | \\theta)$ with respect to $\\theta$. In our model this means that we need to find optimal values of $\\pi$, $\\mu$, $\\Sigma$. To do so, you need to compute the derivatives and \n",
    "set them to zero. You should start by deriving formulas for $\\mu$ as it is the easiest part. Then move on to $\\Sigma$. Here it is crucial to optimize function w.r.t. to $\\Lambda = \\Sigma^{-1}$ and then inverse obtained result. Finaly, to compute $\\pi$, you will need <a href=\"https://www3.nd.edu/~jstiver/FIN360/Constrained%20Optimization.pdf\">Lagrange Multipliers technique</a> to satisfy constraint $\\sum\\limits_{i=1}^{n}\\pi_i = 1$.\n",
    "\n",
    "<br>\n",
    "<b>Important note:</b> You will need to compute derivatives of scalars with respect to matrices. To refresh this technique from previous courses, see <a href=\"https://en.wikipedia.org/wiki/Matrix_calculus\"> wiki article</a> about it . Main formulas of matrix derivatives can be found in <a href=\"http://www2.imm.dtu.dk/pubdb/views/edoc_download.php/3274/pdf/imm3274.pdf\">Chapter 2 of The Matrix Cookbook</a>. For example, there you may find that $\\frac{\\partial}{\\partial A}\\log |A| = A^{-T}$.\n"
   ]
  },
  {
   "cell_type": "markdown",
   "metadata": {},
   "source": [
    "<b>Task 2:</b> Implement M-step for GMM using template below."
   ]
  },
  {
   "cell_type": "code",
   "execution_count": 268,
   "metadata": {},
   "outputs": [],
   "source": [
    "def M_step(X, gamma):\n",
    "    \"\"\"\n",
    "    Performs M-step on GMM model\n",
    "    Each input is numpy array:\n",
    "    X: (N x d), data points\n",
    "    gamma: (N x C), distribution q(T)  \n",
    "    \n",
    "    Returns:\n",
    "    pi: (C)\n",
    "    mu: (C x d)\n",
    "    sigma: (C x d x d)\n",
    "    \"\"\"\n",
    "    N = X.shape[0] # number of objects\n",
    "    C = gamma.shape[1] # number of clusters\n",
    "    d = X.shape[1] # dimension of each object\n",
    "\n",
    "    ### YOUR CODE HERE\n",
    "    mu = np.zeros((C, d))\n",
    "    sigma = np.zeros((C, d, d))\n",
    "\n",
    "    pi = np.sum(gamma, axis=0) / (1.0 * N)\n",
    "    \n",
    "    for c in range(C):\n",
    "        mu[c,:] = np.sum(X * gamma[:,c][:,np.newaxis], axis=0) / (pi[c]*N)\n",
    "        X_c = X - mu[c, :][np.newaxis, :]  # (N x d)\n",
    "        sigma[c, : , :] = np.dot((X_c * gamma[:,c][:,np.newaxis]).T , X_c) / (pi[c]*N)\n",
    "       \n",
    "    return pi, mu, sigma"
   ]
  },
  {
   "cell_type": "code",
   "execution_count": 269,
   "metadata": {},
   "outputs": [
    {
     "name": "stdout",
     "output_type": "stream",
     "text": [
      "N:280 C:3 d:2\n",
      "Current answer for task Task 2 (M-step: mu) is: 2.8993918820503835\n",
      "Current answer for task Task 2 (M-step: sigma) is: 5.977105216897528\n",
      "Current answer for task Task 2 (M-step: pi) is: 0.5507624459218776\n"
     ]
    }
   ],
   "source": [
    "gamma = E_step(X, pi0, mu0, sigma0)\n",
    "pi, mu, sigma = M_step(X, gamma)\n",
    "grader.submit_m_step(pi, mu, sigma)"
   ]
  },
  {
   "cell_type": "markdown",
   "metadata": {},
   "source": [
    "### Loss function"
   ]
  },
  {
   "cell_type": "markdown",
   "metadata": {},
   "source": [
    "Finally, we need some function to track convergence. We will use variational lower bound $\\mathcal{L}$ for this purpose. We will stop our EM iterations when $\\mathcal{L}$ will saturate. Usually, you will need only about 10-20 iterations to converge. It is also useful to check that this function never decreases during training. If it does, you have a bug in your code.\n",
    "\n",
    "<b>Task 3:</b> Implement a function that will compute $\\mathcal{L}$ using template below.\n",
    "\n",
    "$$\\mathcal{L} = \\sum_{n=1}^{N} \\sum_{k=1}^{K} \\mathbb{E}[z_{n, k}] (\\log \\pi_k + \\log \\mathcal{N}(x_n | \\mu_k, \\sigma_k)) - \\sum_{n=1}^{N} \\sum_{k=1}^{K} \\mathbb{E}[z_{n, k}] \\log \\mathbb{E}[z_{n, k}]$$"
   ]
  },
  {
   "cell_type": "code",
   "execution_count": 270,
   "metadata": {},
   "outputs": [],
   "source": [
    "def compute_vlb(X, pi, mu, sigma, gamma):\n",
    "    \"\"\"\n",
    "    Each input is numpy array:\n",
    "    X: (N x d), data points\n",
    "    gamma: (N x C), distribution q(T)  \n",
    "    pi: (C)\n",
    "    mu: (C x d)\n",
    "    sigma: (C x d x d)\n",
    "    \n",
    "    Returns value of variational lower bound(vlb)\n",
    "    \"\"\"\n",
    "    N = X.shape[0] # number of objects\n",
    "    C = gamma.shape[1] # number of clusters\n",
    "    d = X.shape[1] # dimension of each object\n",
    "    \n",
    "    ### YOUR CODE HERE\n",
    "    loss = 0.0\n",
    "    for k  in range(C):   \n",
    "        PI = pi[k]\n",
    "        for n in range(N):\n",
    "            xx= np.log(calc_prob(X[n,:], mu=mu[k,:], sigma=sigma[k,:,:], pi=np.pi))\n",
    "            if xx == float(\"-inf\"):\n",
    "                xx = np.log(1e-20)\n",
    "            #print(\"\\nN=\"+str(n))\n",
    "            #print(\"xx:\"+str(xx))\n",
    "            #print(\"X=\"+str(X[n,:]))\n",
    "            #print(\"mu:\"+str(mu[k,:]))\n",
    "            #print(\"Sigma:\"+str(sigma[k,:,:]))\n",
    "            loss += (gamma[n,k]+1e-20)*(np.log(PI)+ xx - np.log(gamma[n,k]+1e-20))    \n",
    "\n",
    "    return loss"
   ]
  },
  {
   "cell_type": "code",
   "execution_count": 271,
   "metadata": {},
   "outputs": [
    {
     "name": "stdout",
     "output_type": "stream",
     "text": [
      "N:280 C:3 d:2\n",
      "Current answer for task Task 3 (VLB) is: -1213.973464306017\n"
     ]
    },
    {
     "name": "stderr",
     "output_type": "stream",
     "text": [
      "E:\\AnacondaNew\\lib\\site-packages\\ipykernel_launcher.py:21: RuntimeWarning: divide by zero encountered in log\n"
     ]
    }
   ],
   "source": [
    "pi, mu, sigma = pi0, mu0, sigma0\n",
    "gamma = E_step(X, pi, mu, sigma)\n",
    "pi, mu, sigma = M_step(X, gamma)\n",
    "loss = compute_vlb(X, pi, mu, sigma, gamma)\n",
    "grader.submit_VLB(loss)"
   ]
  },
  {
   "cell_type": "markdown",
   "metadata": {},
   "source": [
    "### Bringing it all together"
   ]
  },
  {
   "cell_type": "markdown",
   "metadata": {},
   "source": [
    "Now that we have E step, M step and VLB, we can implement training loop. We will start at random values of $\\pi$, $\\mu$ and $\\Sigma$, train until $\\mathcal{L}$ stops changing and return the resulting points. We also know that EM algorithm sometimes stops at local optima. To avoid this we should restart algorithm multiple times from different starting positions. Each training trial should stop either when maximum number of iterations is reached or when relative improvement is smaller than given tolerance ($|\\frac{\\mathcal{L}_i-\\mathcal{L}_{i-1}}{\\mathcal{L}_{i-1}}| \\le \\text{rtol}$).\n",
    "\n",
    "Remember, that values of $\\pi$ that you generate must be non-negative and sum up to 1. Also, $\\Sigma$ matrices must be symmetric and positive semi-definite. If you don't know how to generate those matrices, you can use $\\Sigma=I$ as initialization.\n",
    "\n",
    "You will also sometimes get numerical errors because of component collapsing. The easiest way to deal with this problems is to simply restart the procedure.\n",
    "\n",
    "<b>Task 4:</b> Implement training procedure"
   ]
  },
  {
   "cell_type": "code",
   "execution_count": 287,
   "metadata": {},
   "outputs": [],
   "source": [
    "import random\n",
    "def train_EM(X, C, rtol=1e-3, max_iter=100, restarts=10):\n",
    "    '''\n",
    "    Starts with random initialization *restarts* times\n",
    "    Runs optimization until saturation with *rtol* reached\n",
    "    or *max_iter* iterations were made.\n",
    "    \n",
    "    X: (N, d), data points\n",
    "    C: int, number of clusters\n",
    "    '''\n",
    "    N = X.shape[0] # number of objects\n",
    "    d = X.shape[1] # dimension of each object\n",
    "    best_loss = None\n",
    "    best_pi = None\n",
    "    best_mu = None\n",
    "    best_sigma = None\n",
    "\n",
    "    for z in range(restarts):\n",
    "        try:\n",
    "            ### YOUR CODE HERE\n",
    "            #Initialize for each Restart \n",
    "            i = 1 \n",
    "            #pi= np.random.uniform(low=0, high=0.5, size=(C)).flatten()\n",
    "            pi = np.array([random.uniform(0,0.5),random.uniform(0,0.5)])\n",
    "            pi = np.append(pi,1 - (pi[0] + pi[1]))\n",
    "            mu = np.random.uniform(low=0, high= np.max(X),size=(C,d))\n",
    "            sigma = np.array([np.eye(d,d),np.eye(d,d),np.eye(d,d)])\n",
    "            new_loss = 0.0\n",
    "            print(\"########################################### Retry:\" + str(z+1))\n",
    "            print(\"pi:\"+str(pi))\n",
    "            print(\"mu:\"+str(mu))\n",
    "            print(\"Sigma:\"+str(sigma))\n",
    "            \n",
    "            #Loop for till either max_iter is reached or loss improvement is insignificant\n",
    "            while i <= max_iter: \n",
    "                \n",
    "                gamma = E_step(X, pi, mu, sigma)\n",
    "                pi, mu, sigma = M_step(X, gamma)\n",
    "                new_loss = compute_vlb(X, pi, mu, sigma, gamma)\n",
    "                print(\"Iteration:\"+str(i)+\"   Loss:\" + str(new_loss))\n",
    "                if (best_loss != None) and np.abs((new_loss - best_loss)/best_loss) < rtol:\n",
    "                    print('Loss improvement is not significant in iteration '+str(i))\n",
    "                    break\n",
    "                i += 1\n",
    "                \n",
    "                if (best_loss == None) or (np.abs(new_loss) < np.abs(best_loss)):\n",
    "                    best_loss = new_loss\n",
    "                    best_pi = pi\n",
    "                    best_mu = mu\n",
    "                    best_sigma = sigma \n",
    "                \n",
    "        except np.linalg.LinAlgError:\n",
    "            print(\"Singular matrix: components collapsed\")\n",
    "            pass\n",
    "\n",
    "    return best_loss, best_pi, best_mu, best_sigma"
   ]
  },
  {
   "cell_type": "code",
   "execution_count": 288,
   "metadata": {},
   "outputs": [
    {
     "name": "stdout",
     "output_type": "stream",
     "text": [
      "########################################### Retry:1\n",
      "pi:[0.12618999 0.13329653 0.74051347]\n",
      "mu:[[4.55655514 7.00965305]\n",
      " [3.19215287 7.68685721]\n",
      " [4.46429695 0.14952268]]\n",
      "Sigma:[[[1. 0.]\n",
      "  [0. 1.]]\n",
      "\n",
      " [[1. 0.]\n",
      "  [0. 1.]]\n",
      "\n",
      " [[1. 0.]\n",
      "  [0. 1.]]]\n",
      "Iteration:1   Loss:-1125.154855721196\n",
      "Iteration:2   Loss:-1111.415994399572\n",
      "Iteration:3   Loss:-1104.1098429380834\n",
      "Iteration:4   Loss:-1097.3750484968343\n",
      "Iteration:5   Loss:-1091.9767007018204\n",
      "Iteration:6   Loss:-1085.4133809287061\n",
      "Iteration:7   Loss:-1075.9832306014687\n",
      "Iteration:8   Loss:-1065.6087430550892\n",
      "Iteration:9   Loss:-1063.9238475535803\n",
      "Iteration:10   Loss:-1063.836518031924\n",
      "Loss improvement is not significant in iteration 10\n",
      "########################################### Retry:2\n",
      "pi:[0.49336546 0.43000528 0.07662926]\n",
      "mu:[[0.58451018 8.19035113]\n",
      " [5.27529442 7.15861832]\n",
      " [6.77017899 0.37540352]]\n",
      "Sigma:[[[1. 0.]\n",
      "  [0. 1.]]\n",
      "\n",
      " [[1. 0.]\n",
      "  [0. 1.]]\n",
      "\n",
      " [[1. 0.]\n",
      "  [0. 1.]]]\n",
      "Iteration:1   Loss:-1152.42641676612\n",
      "Iteration:2   Loss:-1129.5278181460967\n",
      "Iteration:3   Loss:-1120.1852169755687\n",
      "Iteration:4   Loss:-1111.7528582618977\n",
      "Iteration:5   Loss:-1102.973390967498\n",
      "Iteration:6   Loss:-1092.0151798929583\n",
      "Iteration:7   Loss:-1076.605523292153\n",
      "Iteration:8   Loss:-1065.9354855827582\n",
      "Iteration:9   Loss:-1064.5540350273252\n",
      "Loss improvement is not significant in iteration 9\n",
      "########################################### Retry:3\n",
      "pi:[0.39290572 0.16262761 0.44446667]\n",
      "mu:[[5.37227174 1.31285605]\n",
      " [2.29072228 3.05693129]\n",
      " [1.08562923 3.74797882]]\n",
      "Sigma:[[[1. 0.]\n",
      "  [0. 1.]]\n",
      "\n",
      " [[1. 0.]\n",
      "  [0. 1.]]\n",
      "\n",
      " [[1. 0.]\n",
      "  [0. 1.]]]\n",
      "Iteration:1   Loss:-1139.0738541143462\n",
      "Iteration:2   Loss:-1132.1064446375217\n",
      "Iteration:3   Loss:-1126.007466600888\n",
      "Iteration:4   Loss:-1115.8428097673968\n",
      "Iteration:5   Loss:-1102.008062115304\n",
      "Iteration:6   Loss:-1090.576134426825\n",
      "Iteration:7   Loss:-1082.6078672467338\n",
      "Iteration:8   Loss:-1076.591613936531\n",
      "Iteration:9   Loss:-1071.9714230041295\n",
      "Iteration:10   Loss:-1068.4821851875372\n",
      "Iteration:11   Loss:-1066.176733774983\n",
      "Iteration:12   Loss:-1064.9153562388526\n",
      "Loss improvement is not significant in iteration 12\n",
      "########################################### Retry:4\n",
      "pi:[0.21745796 0.02219061 0.76035143]\n",
      "mu:[[5.6512242  7.588479  ]\n",
      " [3.72427885 6.59858048]\n",
      " [6.5236772  7.02565951]]\n",
      "Sigma:[[[1. 0.]\n",
      "  [0. 1.]]\n",
      "\n",
      " [[1. 0.]\n",
      "  [0. 1.]]\n",
      "\n",
      " [[1. 0.]\n",
      "  [0. 1.]]]\n",
      "Iteration:1   Loss:-1152.9163329804862\n",
      "Iteration:2   Loss:-1129.677470052815\n",
      "Iteration:3   Loss:-1127.0520415132132\n",
      "Iteration:4   Loss:-1125.3021471797394\n",
      "Iteration:5   Loss:-1123.0965638805467\n",
      "Iteration:6   Loss:-1120.6959472114986\n",
      "Iteration:7   Loss:-1118.3450692081185\n",
      "Iteration:8   Loss:-1115.8124624074524\n",
      "Iteration:9   Loss:-1112.7294043826669\n",
      "Iteration:10   Loss:-1108.8592775381494\n",
      "Iteration:11   Loss:-1104.3036225066921\n",
      "Iteration:12   Loss:-1099.5087853296413\n",
      "Iteration:13   Loss:-1094.9927039296917\n",
      "Iteration:14   Loss:-1091.060969479764\n",
      "Iteration:15   Loss:-1087.7623886603565\n",
      "Iteration:16   Loss:-1085.0030873273545\n",
      "Iteration:17   Loss:-1082.6470426441026\n",
      "Iteration:18   Loss:-1080.5631570700582\n",
      "Iteration:19   Loss:-1078.6431534309186\n",
      "Iteration:20   Loss:-1076.8065548595157\n",
      "Iteration:21   Loss:-1075.0016755621118\n",
      "Iteration:22   Loss:-1073.2080939279092\n",
      "Iteration:23   Loss:-1071.4384000108985\n",
      "Iteration:24   Loss:-1069.727951170667\n",
      "Iteration:25   Loss:-1068.1212319832568\n",
      "Iteration:26   Loss:-1066.7035441565117\n",
      "Iteration:27   Loss:-1065.5930642329306\n",
      "Iteration:28   Loss:-1064.8302689081972\n",
      "Loss improvement is not significant in iteration 28\n",
      "########################################### Retry:5\n",
      "pi:[0.37725815 0.38196772 0.24077413]\n",
      "mu:[[7.61741347 3.71993584]\n",
      " [3.81897497 0.71707573]\n",
      " [7.0379524  3.79054196]]\n",
      "Sigma:[[[1. 0.]\n",
      "  [0. 1.]]\n",
      "\n",
      " [[1. 0.]\n",
      "  [0. 1.]]\n",
      "\n",
      " [[1. 0.]\n",
      "  [0. 1.]]]\n",
      "Iteration:1   Loss:-1186.826810868728\n",
      "Iteration:2   Loss:-1158.7308229361884\n",
      "Iteration:3   Loss:-1137.25834991893\n",
      "Iteration:4   Loss:-1119.617392727532\n",
      "Iteration:5   Loss:-1109.046357227676\n",
      "Iteration:6   Loss:-1101.7478527130831\n",
      "Iteration:7   Loss:-1096.0979010986289\n",
      "Iteration:8   Loss:-1091.8035918909634\n",
      "Iteration:9   Loss:-1088.3326188715325\n",
      "Iteration:10   Loss:-1085.4578211746687\n",
      "Iteration:11   Loss:-1083.0214228531454\n",
      "Iteration:12   Loss:-1080.8848021281265\n",
      "Iteration:13   Loss:-1078.9327069226467\n",
      "Iteration:14   Loss:-1077.0771001008359\n",
      "Iteration:15   Loss:-1075.2581234799366\n",
      "Iteration:16   Loss:-1073.446206433119\n",
      "Iteration:17   Loss:-1071.6447407728663\n",
      "Iteration:18   Loss:-1069.8859248718372\n",
      "Iteration:19   Loss:-1068.2271723080235\n",
      "Iteration:20   Loss:-1066.7722447499418\n",
      "Iteration:21   Loss:-1065.638353192256\n",
      "Iteration:22   Loss:-1064.8593449319476\n",
      "Loss improvement is not significant in iteration 22\n",
      "########################################### Retry:6\n",
      "pi:[0.17484935 0.31650989 0.50864076]\n",
      "mu:[[4.10913474 7.45244036]\n",
      " [5.15245234 3.98343626]\n",
      " [8.03831433 1.72668853]]\n",
      "Sigma:[[[1. 0.]\n",
      "  [0. 1.]]\n",
      "\n",
      " [[1. 0.]\n",
      "  [0. 1.]]\n",
      "\n",
      " [[1. 0.]\n",
      "  [0. 1.]]]\n",
      "Iteration:1   Loss:-1161.9580524652097\n",
      "Iteration:2   Loss:-1136.5881306775539\n",
      "Iteration:3   Loss:-1122.257544916532\n",
      "Iteration:4   Loss:-1098.721186165711\n",
      "Iteration:5   Loss:-1080.0213078999695\n",
      "Iteration:6   Loss:-1070.507802589582\n",
      "Iteration:7   Loss:-1068.2861896955235\n",
      "Iteration:8   Loss:-1067.3302016990037\n",
      "Iteration:9   Loss:-1066.4581483420275\n",
      "Iteration:10   Loss:-1065.5257315198346\n",
      "Iteration:11   Loss:-1064.7608926856626\n",
      "Loss improvement is not significant in iteration 11\n",
      "########################################### Retry:7\n",
      "pi:[0.06151903 0.20163148 0.73684949]\n",
      "mu:[[4.53615125 7.47378418]\n",
      " [5.87649867 4.2016273 ]\n",
      " [2.61690235 5.3781256 ]]\n",
      "Sigma:[[[1. 0.]\n",
      "  [0. 1.]]\n",
      "\n",
      " [[1. 0.]\n",
      "  [0. 1.]]\n",
      "\n",
      " [[1. 0.]\n",
      "  [0. 1.]]]\n",
      "Iteration:1   Loss:-1142.6085230270837\n",
      "Iteration:2   Loss:-1138.3557952469885\n",
      "Iteration:3   Loss:-1135.910907812796\n",
      "Iteration:4   Loss:-1132.5627136849598\n",
      "Iteration:5   Loss:-1128.3764712262\n",
      "Iteration:6   Loss:-1124.8879360317005\n",
      "Iteration:7   Loss:-1122.3838306963366\n",
      "Iteration:8   Loss:-1121.082381091305\n",
      "Iteration:9   Loss:-1120.5486231254788\n",
      "Iteration:10   Loss:-1120.2781713216386\n",
      "Iteration:11   Loss:-1120.0889588394507\n",
      "Iteration:12   Loss:-1119.9353256743975\n",
      "Iteration:13   Loss:-1119.8040635392795\n",
      "Iteration:14   Loss:-1119.6920298744758\n",
      "Iteration:15   Loss:-1119.5991058216143\n",
      "Iteration:16   Loss:-1119.5244968978957\n",
      "Iteration:17   Loss:-1119.4654712586334\n",
      "Iteration:18   Loss:-1119.4174537766721\n",
      "Iteration:19   Loss:-1119.3743612412795\n",
      "Iteration:20   Loss:-1119.3285428247118\n",
      "Iteration:21   Loss:-1119.2701875127996\n",
      "Iteration:22   Loss:-1119.1867036593394\n",
      "Iteration:23   Loss:-1119.0641677172127\n"
     ]
    },
    {
     "name": "stderr",
     "output_type": "stream",
     "text": [
      "E:\\AnacondaNew\\lib\\site-packages\\ipykernel_launcher.py:21: RuntimeWarning: divide by zero encountered in log\n"
     ]
    },
    {
     "name": "stdout",
     "output_type": "stream",
     "text": [
      "Iteration:24   Loss:-1118.8957710644327\n",
      "Iteration:25   Loss:-1118.6983651314827\n",
      "Iteration:26   Loss:-1118.512765535946\n",
      "Iteration:27   Loss:-1118.369057892507\n",
      "Iteration:28   Loss:-1118.2696444800963\n",
      "Iteration:29   Loss:-1118.205464461191\n",
      "Iteration:30   Loss:-1118.166738316111\n",
      "Iteration:31   Loss:-1118.144893704278\n",
      "Iteration:32   Loss:-1118.1332161207745\n",
      "Iteration:33   Loss:-1118.1271520975818\n",
      "Iteration:34   Loss:-1118.1239983099397\n",
      "Iteration:35   Loss:-1118.1223036208673\n",
      "Iteration:36   Loss:-1118.1213389462482\n",
      "Iteration:37   Loss:-1118.1207505266912\n",
      "Iteration:38   Loss:-1118.1203676687326\n",
      "Iteration:39   Loss:-1118.1201059660386\n",
      "Iteration:40   Loss:-1118.1199213108428\n",
      "Iteration:41   Loss:-1118.1197887434728\n",
      "Iteration:42   Loss:-1118.1196928508882\n",
      "Iteration:43   Loss:-1118.1196233711382\n",
      "Iteration:44   Loss:-1118.1195731052462\n",
      "Iteration:45   Loss:-1118.1195368504905\n",
      "Iteration:46   Loss:-1118.119510796103\n",
      "Iteration:47   Loss:-1118.1194921411432\n",
      "Iteration:48   Loss:-1118.1194788306657\n",
      "Iteration:49   Loss:-1118.119469363516\n",
      "Iteration:50   Loss:-1118.1194626487727\n",
      "Iteration:51   Loss:-1118.1194578978136\n",
      "Iteration:52   Loss:-1118.1194545433634\n",
      "Iteration:53   Loss:-1118.1194521791751\n",
      "Iteration:54   Loss:-1118.1194505154526\n",
      "Iteration:55   Loss:-1118.1194493461765\n",
      "Iteration:56   Loss:-1118.1194485252938\n",
      "Iteration:57   Loss:-1118.1194479495277\n",
      "Iteration:58   Loss:-1118.1194475459995\n",
      "Iteration:59   Loss:-1118.1194472633683\n",
      "Iteration:60   Loss:-1118.1194470655194\n",
      "Iteration:61   Loss:-1118.1194469270854\n",
      "Iteration:62   Loss:-1118.11944683026\n",
      "Iteration:63   Loss:-1118.1194467625583\n",
      "Iteration:64   Loss:-1118.1194467152336\n",
      "Iteration:65   Loss:-1118.1194466821594\n",
      "Iteration:66   Loss:-1118.1194466590496\n",
      "Iteration:67   Loss:-1118.1194466429054\n",
      "Iteration:68   Loss:-1118.1194466316265\n",
      "Iteration:69   Loss:-1118.1194466237491\n",
      "Iteration:70   Loss:-1118.119446618249\n",
      "Iteration:71   Loss:-1118.119446614407\n",
      "Iteration:72   Loss:-1118.1194466117233\n",
      "Iteration:73   Loss:-1118.119446609851\n",
      "Iteration:74   Loss:-1118.1194466085426\n",
      "Iteration:75   Loss:-1118.1194466076297\n",
      "Iteration:76   Loss:-1118.119446606992\n",
      "Iteration:77   Loss:-1118.1194466065472\n",
      "Iteration:78   Loss:-1118.1194466062377\n",
      "Iteration:79   Loss:-1118.1194466060185\n",
      "Iteration:80   Loss:-1118.119446605868\n",
      "Iteration:81   Loss:-1118.1194466057623\n",
      "Iteration:82   Loss:-1118.1194466056884\n",
      "Iteration:83   Loss:-1118.119446605637\n",
      "Iteration:84   Loss:-1118.1194466056\n",
      "Iteration:85   Loss:-1118.1194466055754\n",
      "Iteration:86   Loss:-1118.1194466055574\n",
      "Iteration:87   Loss:-1118.1194466055456\n",
      "Iteration:88   Loss:-1118.1194466055379\n",
      "Iteration:89   Loss:-1118.1194466055324\n",
      "Iteration:90   Loss:-1118.1194466055274\n",
      "Iteration:91   Loss:-1118.1194466055251\n",
      "Iteration:92   Loss:-1118.119446605523\n",
      "Iteration:93   Loss:-1118.1194466055206\n",
      "Iteration:94   Loss:-1118.1194466055201\n",
      "Iteration:95   Loss:-1118.119446605519\n",
      "Iteration:96   Loss:-1118.119446605518\n",
      "Iteration:97   Loss:-1118.1194466055185\n",
      "Iteration:98   Loss:-1118.1194466055185\n",
      "Iteration:99   Loss:-1118.1194466055179\n",
      "Iteration:100   Loss:-1118.1194466055179\n",
      "########################################### Retry:8\n",
      "pi:[0.10644108 0.02006097 0.87349795]\n",
      "mu:[[1.17271871 2.74484254]\n",
      " [5.05258224 1.92386649]\n",
      " [5.69219506 3.26197005]]\n",
      "Sigma:[[[1. 0.]\n",
      "  [0. 1.]]\n",
      "\n",
      " [[1. 0.]\n",
      "  [0. 1.]]\n",
      "\n",
      " [[1. 0.]\n",
      "  [0. 1.]]]\n",
      "Iteration:1   Loss:-1170.5255267462915\n",
      "Iteration:2   Loss:-1155.5447636902209\n",
      "Iteration:3   Loss:-1152.4980792698286\n",
      "Iteration:4   Loss:-1150.4677002125716\n",
      "Iteration:5   Loss:-1146.397767928673\n",
      "Iteration:6   Loss:-1133.8772701328253\n",
      "Iteration:7   Loss:-1121.3559309047107\n",
      "Iteration:8   Loss:-1121.0989921936762\n",
      "Iteration:9   Loss:-1121.0473605141137\n",
      "Iteration:10   Loss:-1121.0171205235163\n",
      "Iteration:11   Loss:-1120.9955581085444\n",
      "Iteration:12   Loss:-1120.9780581000464\n",
      "Iteration:13   Loss:-1120.9623957084348\n",
      "Iteration:14   Loss:-1120.9472681753741\n",
      "Iteration:15   Loss:-1120.9316997532678\n",
      "Iteration:16   Loss:-1120.9147470222686\n",
      "Iteration:17   Loss:-1120.895295835013\n",
      "Iteration:18   Loss:-1120.8718554738361\n",
      "Iteration:19   Loss:-1120.842291086025\n",
      "Iteration:20   Loss:-1120.803442397767\n",
      "Iteration:21   Loss:-1120.7505756591536\n",
      "Iteration:22   Loss:-1120.676614142868\n",
      "Iteration:23   Loss:-1120.5710790767955\n",
      "Iteration:24   Loss:-1120.4185981793066\n",
      "Iteration:25   Loss:-1120.1965647907775\n",
      "Iteration:26   Loss:-1119.8706313190537\n",
      "Iteration:27   Loss:-1119.384590422622\n",
      "Iteration:28   Loss:-1118.6408318453628\n",
      "Iteration:29   Loss:-1117.48517948644\n",
      "Iteration:30   Loss:-1115.7631849164438\n",
      "Iteration:31   Loss:-1113.5003369863189\n",
      "Iteration:32   Loss:-1110.9783710143797\n",
      "Iteration:33   Loss:-1108.441702383529\n",
      "Iteration:34   Loss:-1105.7642776050982\n",
      "Iteration:35   Loss:-1102.5370198808164\n",
      "Iteration:36   Loss:-1098.5028530677541\n",
      "Iteration:37   Loss:-1093.924504413592\n",
      "Iteration:38   Loss:-1089.2184096245794\n",
      "Iteration:39   Loss:-1084.539467229083\n",
      "Iteration:40   Loss:-1079.8877347453674\n",
      "Iteration:41   Loss:-1075.3708074714607\n",
      "Iteration:42   Loss:-1071.3020875944987\n",
      "Iteration:43   Loss:-1068.080686294754\n",
      "Iteration:44   Loss:-1065.9624277825435\n",
      "Iteration:45   Loss:-1064.815585055073\n",
      "Loss improvement is not significant in iteration 45\n",
      "########################################### Retry:9\n",
      "pi:[0.2148564  0.00695752 0.77818609]\n",
      "mu:[[6.00831924 0.20682184]\n",
      " [5.00533895 3.83586112]\n",
      " [5.88491568 4.15299743]]\n",
      "Sigma:[[[1. 0.]\n",
      "  [0. 1.]]\n",
      "\n",
      " [[1. 0.]\n",
      "  [0. 1.]]\n",
      "\n",
      " [[1. 0.]\n",
      "  [0. 1.]]]\n",
      "Iteration:1   Loss:-1177.2399005349967\n",
      "Iteration:2   Loss:-1156.5143855024626\n",
      "Iteration:3   Loss:-1145.2888394751785\n",
      "Iteration:4   Loss:-1137.5776930547468\n",
      "Iteration:5   Loss:-1131.5175584358626\n",
      "Iteration:6   Loss:-1125.8373522166776\n",
      "Iteration:7   Loss:-1120.2564070868468\n",
      "Iteration:8   Loss:-1114.9920892926464\n",
      "Iteration:9   Loss:-1110.3685048657019\n",
      "Iteration:10   Loss:-1106.6986453218121\n",
      "Iteration:11   Loss:-1104.0784404665042\n",
      "Iteration:12   Loss:-1102.2742436356455\n",
      "Iteration:13   Loss:-1100.940859055749\n",
      "Iteration:14   Loss:-1099.8243416529203\n",
      "Iteration:15   Loss:-1098.7711683003818\n",
      "Iteration:16   Loss:-1097.6772974479625\n",
      "Iteration:17   Loss:-1096.454236048889\n",
      "Iteration:18   Loss:-1095.0122114352487\n",
      "Iteration:19   Loss:-1093.2286858838172\n",
      "Iteration:20   Loss:-1090.8514759523985\n",
      "Iteration:21   Loss:-1087.4790239627143\n",
      "Iteration:22   Loss:-1083.1505516819752\n",
      "Iteration:23   Loss:-1078.1838250949766\n",
      "Iteration:24   Loss:-1070.7198140477713\n",
      "Iteration:25   Loss:-1064.6128050937534\n",
      "Loss improvement is not significant in iteration 25\n",
      "########################################### Retry:10\n",
      "pi:[0.05651245 0.31065253 0.63283502]\n",
      "mu:[[7.92284525 2.32900014]\n",
      " [1.69143399 1.4541652 ]\n",
      " [5.24554893 8.07661191]]\n",
      "Sigma:[[[1. 0.]\n",
      "  [0. 1.]]\n",
      "\n",
      " [[1. 0.]\n",
      "  [0. 1.]]\n",
      "\n",
      " [[1. 0.]\n",
      "  [0. 1.]]]\n",
      "Iteration:1   Loss:-1177.207783129071\n",
      "Iteration:2   Loss:-1135.8356399447573\n",
      "Iteration:3   Loss:-1113.2167176139326\n",
      "Iteration:4   Loss:-1096.6671681140192\n",
      "Iteration:5   Loss:-1090.6072187317193\n",
      "Iteration:6   Loss:-1087.0495526313107\n",
      "Iteration:7   Loss:-1084.3193358874685\n",
      "Iteration:8   Loss:-1082.028004781368\n",
      "Iteration:9   Loss:-1079.9943339425924\n",
      "Iteration:10   Loss:-1078.102765776388\n",
      "Iteration:11   Loss:-1076.2796467091032\n",
      "Iteration:12   Loss:-1074.484681937947\n",
      "Iteration:13   Loss:-1072.7105252479498\n",
      "Iteration:14   Loss:-1070.9814986062609\n",
      "Iteration:15   Loss:-1069.334840348317\n",
      "Iteration:16   Loss:-1067.8018013558485\n",
      "Iteration:17   Loss:-1066.457651398559\n",
      "Iteration:18   Loss:-1065.4192655431514\n",
      "Iteration:19   Loss:-1064.718896860483\n",
      "Loss improvement is not significant in iteration 19\n",
      "Best Loss:-1063.9238475535803\n",
      "Current answer for task Task 4 (EM) is: -1063.9238475535803\n"
     ]
    }
   ],
   "source": [
    "best_loss, best_pi, best_mu, best_sigma = train_EM(X, 3)\n",
    "print(\"Best Loss:\" + str(best_loss))\n",
    "grader.submit_EM(best_loss)"
   ]
  },
  {
   "cell_type": "markdown",
   "metadata": {},
   "source": [
    "If you implemented all the steps correctly, your algorithm should converge in about 20 iterations. Let's plot the clusters to see it. We will assign a cluster label as the most probable cluster index. This can be found using matrix $\\gamma$ computed on last E-step. \n"
   ]
  },
  {
   "cell_type": "code",
   "execution_count": 289,
   "metadata": {},
   "outputs": [
    {
     "data": {
      "image/png": "[encoded data removed]",
      "text/plain": [
       "<Figure size 432x288 with 1 Axes>"
      ]
     },
     "metadata": {
      "needs_background": "light"
     },
     "output_type": "display_data"
    }
   ],
   "source": [
    "gamma = E_step(X, best_pi, best_mu, best_sigma)\n",
    "labels = gamma.argmax(1)\n",
    "plt.scatter(X[:, 0], X[:, 1], c=labels, s=30)\n",
    "plt.axis('equal')\n",
    "plt.show()"
   ]
  },
  {
   "cell_type": "markdown",
   "metadata": {},
   "source": [
    "### Authorization & Submission\n",
    "To submit assignment parts to Cousera platform, please, enter your e-mail and your token into variables below. You can generate the token on this programming assignment page. <b>Note:</b> Token expires 30 minutes after generation."
   ]
  },
  {
   "cell_type": "code",
   "execution_count": null,
   "metadata": {
    "collapsed": true
   },
   "outputs": [],
   "source": [
    "STUDENT_EMAIL = # EMAIL HERE\n",
    "STUDENT_TOKEN = # TOKEN HERE\n",
    "grader.status()"
   ]
  },
  {
   "cell_type": "markdown",
   "metadata": {},
   "source": [
    "If you want to submit these answers, run cell below"
   ]
  },
  {
   "cell_type": "code",
   "execution_count": null,
   "metadata": {
    "collapsed": true
   },
   "outputs": [],
   "source": [
    "grader.submit(STUDENT_EMAIL, STUDENT_TOKEN)"
   ]
  }
 ],
 "metadata": {
  "kernelspec": {
   "display_name": "Python 3",
   "language": "python",
   "name": "python3"
  },
  "language_info": {
   "codemirror_mode": {
    "name": "ipython",
    "version": 3
   },
   "file_extension": ".py",
   "mimetype": "text/x-python",
   "name": "python",
   "nbconvert_exporter": "python",
   "pygments_lexer": "ipython3",
   "version": "3.6.6"
  },
  "latex_envs": {
   "bibliofile": "biblio.bib",
   "cite_by": "apalike",
   "current_citInitial": 1,
   "eqLabelWithNumbers": true,
   "eqNumInitial": 0
  }
 },
 "nbformat": 4,
 "nbformat_minor": 2
}
